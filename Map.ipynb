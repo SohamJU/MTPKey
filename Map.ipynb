{
 "cells": [
  {
   "cell_type": "code",
   "execution_count": 6,
   "metadata": {},
   "outputs": [],
   "source": [
    "import numpy as np\n",
    "import pandas as pd\n",
    "import os\n",
    "path = os.getcwd()\n",
    "files = os.listdir(path)\n",
    "#files\n",
    "files_xlsx = [f for f in files if f[-4:] == 'xlsx']\n",
    "#files_xlsx\n",
    "#strain=pd.read_excel('G31863.xlsx')\n",
    "genemap=pd.read_csv('Mapper.csv')"
   ]
  },
  {
   "cell_type": "code",
   "execution_count": 10,
   "metadata": {},
   "outputs": [
    {
     "name": "stderr",
     "output_type": "stream",
     "text": [
      "C:\\Users\\lones\\Anaconda3\\lib\\site-packages\\ipykernel_launcher.py:13: SettingWithCopyWarning: \n",
      "A value is trying to be set on a copy of a slice from a DataFrame\n",
      "\n",
      "See the caveats in the documentation: http://pandas.pydata.org/pandas-docs/stable/user_guide/indexing.html#returning-a-view-versus-a-copy\n",
      "  del sys.path[0]\n"
     ]
    }
   ],
   "source": [
    "resultfinal=pd.DataFrame()\n",
    "for item in files_xlsx:\n",
    "    strain=pd.read_excel(item)\n",
    "    strain=strain[strain['FILTER']=='PASS']\n",
    "    strain=strain[['POS','REF','ALT']]\n",
    "    strain=strain.reset_index(drop=True)\n",
    "    genestart=genemap['MS_START']\n",
    "    geneend=genemap['MS_STOP']\n",
    "    result=pd.DataFrame(list(zip(genemap['ID'],np.zeros(len(genemap['ID'])))),columns=('Gene','Mutations'))\n",
    "    for index in range(0,len(strain['POS'])):\n",
    "        for temp in range(0,len(genestart)):\n",
    "            if strain['POS'][index]>genestart[temp] and strain['POS'][index]<geneend[temp]:\n",
    "                result['Mutations'][temp]+=1\n",
    "                break\n",
    "    result=result.transpose()\n",
    "    resultfinal=resultfinal.append(result)\n"
   ]
  },
  {
   "cell_type": "code",
   "execution_count": 11,
   "metadata": {},
   "outputs": [],
   "source": [
    "resultfinal.to_csv('IntentedNEW.csv')"
   ]
  },
  {
   "cell_type": "code",
   "execution_count": null,
   "metadata": {},
   "outputs": [],
   "source": [
    "resultfinal"
   ]
  },
  {
   "cell_type": "code",
   "execution_count": 8,
   "metadata": {},
   "outputs": [
    {
     "data": {
      "text/plain": [
       "40"
      ]
     },
     "execution_count": 8,
     "metadata": {},
     "output_type": "execute_result"
    }
   ],
   "source": [
    "len(files_xlsx)\n"
   ]
  }
 ],
 "metadata": {
  "kernelspec": {
   "display_name": "Python 3",
   "language": "python",
   "name": "python3"
  },
  "language_info": {
   "codemirror_mode": {
    "name": "ipython",
    "version": 3
   },
   "file_extension": ".py",
   "mimetype": "text/x-python",
   "name": "python",
   "nbconvert_exporter": "python",
   "pygments_lexer": "ipython3",
   "version": "3.7.4"
  }
 },
 "nbformat": 4,
 "nbformat_minor": 4
}
